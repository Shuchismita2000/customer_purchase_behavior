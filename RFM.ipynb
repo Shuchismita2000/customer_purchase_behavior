{
 "cells": [
  {
   "cell_type": "markdown",
   "metadata": {},
   "source": [
    "The goal of this analysis is to identify different customer segments based on their purchasing behavior, allowing the business to tailor its marketing strategies and improve customer retention and sales.\n",
    "\n",
    "**Steps to Perform RFM Analysis**\n",
    "* Load and Prepare the Data\n",
    "* Calculate RFM Metrics\n",
    "* Assign RFM Scores\n",
    "* Segment Customers Based on RFM Scores\n",
    "* Interpret the Results"
   ]
  },
  {
   "cell_type": "markdown",
   "metadata": {},
   "source": [
    "# Load the data"
   ]
  },
  {
   "cell_type": "code",
   "execution_count": 1,
   "metadata": {},
   "outputs": [],
   "source": [
    "import pandas as pd \n",
    "import numpy as np \n",
    "import matplotlib.pyplot as plt\n",
    "import seaborn as sns"
   ]
  },
  {
   "cell_type": "code",
   "execution_count": 2,
   "metadata": {},
   "outputs": [
    {
     "data": {
      "text/html": [
       "<div>\n",
       "<style scoped>\n",
       "    .dataframe tbody tr th:only-of-type {\n",
       "        vertical-align: middle;\n",
       "    }\n",
       "\n",
       "    .dataframe tbody tr th {\n",
       "        vertical-align: top;\n",
       "    }\n",
       "\n",
       "    .dataframe thead th {\n",
       "        text-align: right;\n",
       "    }\n",
       "</style>\n",
       "<table border=\"1\" class=\"dataframe\">\n",
       "  <thead>\n",
       "    <tr style=\"text-align: right;\">\n",
       "      <th></th>\n",
       "      <th>Invoice</th>\n",
       "      <th>StockCode</th>\n",
       "      <th>Description</th>\n",
       "      <th>Quantity</th>\n",
       "      <th>InvoiceDate</th>\n",
       "      <th>Price</th>\n",
       "      <th>Customer ID</th>\n",
       "      <th>Country</th>\n",
       "    </tr>\n",
       "  </thead>\n",
       "  <tbody>\n",
       "    <tr>\n",
       "      <th>0</th>\n",
       "      <td>489434</td>\n",
       "      <td>85048</td>\n",
       "      <td>15CM CHRISTMAS GLASS BALL 20 LIGHTS</td>\n",
       "      <td>12</td>\n",
       "      <td>2009-12-01 07:45:00</td>\n",
       "      <td>6.95</td>\n",
       "      <td>13085.0</td>\n",
       "      <td>United Kingdom</td>\n",
       "    </tr>\n",
       "    <tr>\n",
       "      <th>1</th>\n",
       "      <td>489434</td>\n",
       "      <td>79323P</td>\n",
       "      <td>PINK CHERRY LIGHTS</td>\n",
       "      <td>12</td>\n",
       "      <td>2009-12-01 07:45:00</td>\n",
       "      <td>6.75</td>\n",
       "      <td>13085.0</td>\n",
       "      <td>United Kingdom</td>\n",
       "    </tr>\n",
       "    <tr>\n",
       "      <th>2</th>\n",
       "      <td>489434</td>\n",
       "      <td>79323W</td>\n",
       "      <td>WHITE CHERRY LIGHTS</td>\n",
       "      <td>12</td>\n",
       "      <td>2009-12-01 07:45:00</td>\n",
       "      <td>6.75</td>\n",
       "      <td>13085.0</td>\n",
       "      <td>United Kingdom</td>\n",
       "    </tr>\n",
       "    <tr>\n",
       "      <th>3</th>\n",
       "      <td>489434</td>\n",
       "      <td>22041</td>\n",
       "      <td>RECORD FRAME 7\" SINGLE SIZE</td>\n",
       "      <td>48</td>\n",
       "      <td>2009-12-01 07:45:00</td>\n",
       "      <td>2.10</td>\n",
       "      <td>13085.0</td>\n",
       "      <td>United Kingdom</td>\n",
       "    </tr>\n",
       "    <tr>\n",
       "      <th>4</th>\n",
       "      <td>489434</td>\n",
       "      <td>21232</td>\n",
       "      <td>STRAWBERRY CERAMIC TRINKET BOX</td>\n",
       "      <td>24</td>\n",
       "      <td>2009-12-01 07:45:00</td>\n",
       "      <td>1.25</td>\n",
       "      <td>13085.0</td>\n",
       "      <td>United Kingdom</td>\n",
       "    </tr>\n",
       "  </tbody>\n",
       "</table>\n",
       "</div>"
      ],
      "text/plain": [
       "  Invoice StockCode                          Description  Quantity  \\\n",
       "0  489434     85048  15CM CHRISTMAS GLASS BALL 20 LIGHTS        12   \n",
       "1  489434    79323P                   PINK CHERRY LIGHTS        12   \n",
       "2  489434    79323W                  WHITE CHERRY LIGHTS        12   \n",
       "3  489434     22041         RECORD FRAME 7\" SINGLE SIZE         48   \n",
       "4  489434     21232       STRAWBERRY CERAMIC TRINKET BOX        24   \n",
       "\n",
       "          InvoiceDate  Price  Customer ID         Country  \n",
       "0 2009-12-01 07:45:00   6.95      13085.0  United Kingdom  \n",
       "1 2009-12-01 07:45:00   6.75      13085.0  United Kingdom  \n",
       "2 2009-12-01 07:45:00   6.75      13085.0  United Kingdom  \n",
       "3 2009-12-01 07:45:00   2.10      13085.0  United Kingdom  \n",
       "4 2009-12-01 07:45:00   1.25      13085.0  United Kingdom  "
      ]
     },
     "execution_count": 2,
     "metadata": {},
     "output_type": "execute_result"
    }
   ],
   "source": [
    "df = pd.read_excel(r\"D:\\Portfolio Github\\customer_purchase_behavior\\online_retail_II.xlsx\", sheet_name = \"Year 2009-2010\" )\n",
    "df.head()"
   ]
  },
  {
   "cell_type": "markdown",
   "metadata": {},
   "source": [
    "Getting to know the variables:¶\n",
    "* **InvoiceNo** : The number of the invoice, unique per each purchase. Refund invoice numbers contain \"C\"\n",
    "* **StockCode** : Unique code per each item\n",
    "* **Description** : Name of the item\n",
    "* **Quantity** : The number of items within the invoice\n",
    "* **InvoiceDate** : Date and time of the purchase\n",
    "* **UnitPrice** : Price of a single item, as of Sterlin\n",
    "* **CustomerID** : Unique id number per each customer\n",
    "* **Country** : The country where the customer is living"
   ]
  },
  {
   "cell_type": "code",
   "execution_count": 3,
   "metadata": {},
   "outputs": [
    {
     "data": {
      "text/plain": [
       "(525461, 8)"
      ]
     },
     "execution_count": 3,
     "metadata": {},
     "output_type": "execute_result"
    }
   ],
   "source": [
    "df.shape"
   ]
  },
  {
   "cell_type": "code",
   "execution_count": 4,
   "metadata": {},
   "outputs": [
    {
     "data": {
      "text/plain": [
       "Invoice             0\n",
       "StockCode           0\n",
       "Description      2928\n",
       "Quantity            0\n",
       "InvoiceDate         0\n",
       "Price               0\n",
       "Customer ID    107927\n",
       "Country             0\n",
       "dtype: int64"
      ]
     },
     "execution_count": 4,
     "metadata": {},
     "output_type": "execute_result"
    }
   ],
   "source": [
    "df.isnull().sum()"
   ]
  },
  {
   "cell_type": "markdown",
   "metadata": {},
   "source": [
    "# Data Quality and Preparation:"
   ]
  },
  {
   "cell_type": "markdown",
   "metadata": {},
   "source": [
    "* ### Are there any patterns in missing or inconsistent df that we should be aware of (e.g., missing customer IDs, negative quantities)?"
   ]
  },
  {
   "cell_type": "code",
   "execution_count": 5,
   "metadata": {},
   "outputs": [
    {
     "name": "stdout",
     "output_type": "stream",
     "text": [
      "\n",
      "Rows with Missing Customer ID:\n",
      " (107927, 8)\n",
      "\n",
      "Rows with Negative Quantities:\n",
      " (12326, 8)\n"
     ]
    }
   ],
   "source": [
    "# Check for rows with missing Customer ID\n",
    "missing_customer_id = df[df['Customer ID'].isnull()]\n",
    "\n",
    "#Check for rows with negative quantities\n",
    "negative_quantities = df[df['Quantity'] < 0]\n",
    "\n",
    "# Output the results\n",
    "print(\"\\nRows with Missing Customer ID:\\n\", missing_customer_id.shape)\n",
    "print(\"\\nRows with Negative Quantities:\\n\", negative_quantities.shape)"
   ]
  },
  {
   "cell_type": "code",
   "execution_count": 6,
   "metadata": {},
   "outputs": [
    {
     "name": "stdout",
     "output_type": "stream",
     "text": [
      "Sales data shape (positive quantities): (513135, 8)\n",
      "Returns data shape (negative quantities): (12326, 8)\n"
     ]
    }
   ],
   "source": [
    "# Separate rows with negative quantities\n",
    "returns_data = df[df['Quantity'] < 0]\n",
    "sales_data = df[df['Quantity'] >= 0]\n",
    "\n",
    "# Check the results\n",
    "print(f\"Sales data shape (positive quantities): {sales_data.shape}\")\n",
    "print(f\"Returns data shape (negative quantities): {returns_data.shape}\")\n"
   ]
  },
  {
   "cell_type": "code",
   "execution_count": 7,
   "metadata": {},
   "outputs": [],
   "source": [
    "# Create a new column 'Transaction Type' to indicate 'Return' or 'Sale'\n",
    "df['Transaction Type'] = df['Quantity'].apply(lambda x: 'Return' if x < 0 else 'Sale')\n",
    "\n",
    "# Convert all quantities to positive values\n",
    "df['Quantity'] = df['Quantity'].abs()"
   ]
  },
  {
   "cell_type": "code",
   "execution_count": 8,
   "metadata": {},
   "outputs": [],
   "source": [
    "# Handle missing values\n",
    "# Drop rows with missing Customer ID since it's crucial for RFM analysis\n",
    "df = df.dropna(subset=['Customer ID'])\n",
    "\n",
    "# Fill missing values in other columns with appropriate methods (if necessary)\n",
    "# For example, filling missing Description with 'Unknown'\n",
    "df['Description'].fillna('Unknown', inplace=True)"
   ]
  },
  {
   "cell_type": "code",
   "execution_count": 9,
   "metadata": {},
   "outputs": [
    {
     "name": "stdout",
     "output_type": "stream",
     "text": [
      "<class 'pandas.core.frame.DataFrame'>\n",
      "Int64Index: 417534 entries, 0 to 525460\n",
      "Data columns (total 9 columns):\n",
      " #   Column            Non-Null Count   Dtype         \n",
      "---  ------            --------------   -----         \n",
      " 0   Invoice           417534 non-null  object        \n",
      " 1   StockCode         417534 non-null  object        \n",
      " 2   Description       417534 non-null  object        \n",
      " 3   Quantity          417534 non-null  int64         \n",
      " 4   InvoiceDate       417534 non-null  datetime64[ns]\n",
      " 5   Price             417534 non-null  float64       \n",
      " 6   Customer ID       417534 non-null  float64       \n",
      " 7   Country           417534 non-null  object        \n",
      " 8   Transaction Type  417534 non-null  object        \n",
      "dtypes: datetime64[ns](1), float64(2), int64(1), object(5)\n",
      "memory usage: 31.9+ MB\n"
     ]
    }
   ],
   "source": [
    "df.info()"
   ]
  },
  {
   "cell_type": "code",
   "execution_count": 10,
   "metadata": {},
   "outputs": [],
   "source": [
    "# Convert Customer ID from float to string\n",
    "df['Customer ID'] = df['Customer ID'].astype(str)"
   ]
  },
  {
   "cell_type": "markdown",
   "metadata": {},
   "source": [
    "------------------------------"
   ]
  },
  {
   "cell_type": "markdown",
   "metadata": {},
   "source": [
    "* ### Are there outliers (e.g., extremely high or low purchase amounts) that might skew the analysis?\n",
    "    - Yes, there are 34,957 outliers in the dataset with extremely high or low purchase amounts, which could potentially skew the analysis."
   ]
  },
  {
   "cell_type": "code",
   "execution_count": 11,
   "metadata": {},
   "outputs": [],
   "source": [
    "# Calculate the total purchase amount for each row\n",
    "df['Total Amount'] = df['Quantity'] * df['Price']"
   ]
  },
  {
   "cell_type": "code",
   "execution_count": 12,
   "metadata": {},
   "outputs": [],
   "source": [
    "# Calculate Q1 (25th percentile) and Q3 (75th percentile)\n",
    "Q1 = df['Total Amount'].quantile(0.25)\n",
    "Q3 = df['Total Amount'].quantile(0.75)\n",
    "\n",
    "# Calculate the Interquartile Range (IQR)\n",
    "IQR = Q3 - Q1\n",
    "\n",
    "# Define the lower and upper bounds for outliers\n",
    "lower_bound = Q1 - 1.5 * IQR\n",
    "upper_bound = Q3 + 1.5 * IQR"
   ]
  },
  {
   "cell_type": "code",
   "execution_count": 13,
   "metadata": {},
   "outputs": [
    {
     "name": "stdout",
     "output_type": "stream",
     "text": [
      "Number of outliers: 34957\n",
      "Outliers in the data:\n",
      "   Invoice  Quantity  Price  Total Amount\n",
      "0  489434        12   6.95          83.4\n",
      "1  489434        12   6.75          81.0\n",
      "2  489434        12   6.75          81.0\n",
      "3  489434        48   2.10         100.8\n",
      "7  489434        10   5.95          59.5\n"
     ]
    }
   ],
   "source": [
    "# Identify outliers\n",
    "outliers = df[(df['Total Amount'] < lower_bound) | (df['Total Amount'] > upper_bound)]\n",
    "\n",
    "# Check the result\n",
    "print(f\"Number of outliers: {outliers.shape[0]}\")\n",
    "print(\"Outliers in the data:\\n\", outliers[['Invoice', 'Quantity', 'Price', 'Total Amount']].head())"
   ]
  },
  {
   "cell_type": "markdown",
   "metadata": {},
   "source": [
    "---------------------------"
   ]
  },
  {
   "cell_type": "markdown",
   "metadata": {},
   "source": [
    "* ### How does the data distribution look for key metrics like total sales, number of transactions?"
   ]
  },
  {
   "cell_type": "code",
   "execution_count": 14,
   "metadata": {},
   "outputs": [],
   "source": [
    "# Calculate Number of Transactions\n",
    "number_of_transactions = df['Invoice'].nunique()"
   ]
  },
  {
   "cell_type": "code",
   "execution_count": 15,
   "metadata": {},
   "outputs": [],
   "source": [
    "# Aggregate Total Sales by Customer\n",
    "total_sales_by_customer = df.groupby('Customer ID')['Total Amount'].sum()"
   ]
  },
  {
   "cell_type": "code",
   "execution_count": 16,
   "metadata": {},
   "outputs": [
    {
     "data": {
      "image/png": "[encoded data removed]",
      "text/plain": [
       "<Figure size 1200x600 with 1 Axes>"
      ]
     },
     "metadata": {},
     "output_type": "display_data"
    }
   ],
   "source": [
    "# Plot Total Sales Distribution\n",
    "plt.figure(figsize=(12, 6))\n",
    "sns.histplot(total_sales_by_customer, bins=50, kde=True)\n",
    "plt.title('Distribution of Total Sales by Customer')\n",
    "plt.xlabel('Total Sales')\n",
    "plt.ylabel('Frequency')\n",
    "plt.show()"
   ]
  },
  {
   "cell_type": "code",
   "execution_count": 17,
   "metadata": {},
   "outputs": [
    {
     "data": {
      "image/png": "[encoded data removed]",
      "text/plain": [
       "<Figure size 1200x600 with 1 Axes>"
      ]
     },
     "metadata": {},
     "output_type": "display_data"
    }
   ],
   "source": [
    "# Plot Number of Transactions Distribution\n",
    "transaction_counts_by_customer = df.groupby('Customer ID')['Invoice'].nunique()\n",
    "plt.figure(figsize=(12, 6))\n",
    "sns.histplot(transaction_counts_by_customer, bins=50, kde=True)\n",
    "plt.title('Distribution of Number of Transactions by Customer')\n",
    "plt.xlabel('Number of Transactions')\n",
    "plt.ylabel('Frequency')\n",
    "plt.show()"
   ]
  },
  {
   "cell_type": "markdown",
   "metadata": {},
   "source": [
    "----------------------------------\n",
    "---------------------------------------"
   ]
  },
  {
   "cell_type": "markdown",
   "metadata": {},
   "source": [
    "# Recency Analysis"
   ]
  },
  {
   "cell_type": "code",
   "execution_count": 18,
   "metadata": {},
   "outputs": [],
   "source": [
    "# Calculate Recency of Purchases\n",
    "df['InvoiceDate'] = pd.to_datetime(df['InvoiceDate'])\n",
    "latest_purchase_date = df['InvoiceDate'].max()\n",
    "df['Recency'] = (latest_purchase_date - df['InvoiceDate']).dt.days"
   ]
  },
  {
   "cell_type": "markdown",
   "metadata": {},
   "source": [
    "* ### What is the average time since the last purchase for our customers?"
   ]
  },
  {
   "cell_type": "code",
   "execution_count": 19,
   "metadata": {},
   "outputs": [
    {
     "name": "stdout",
     "output_type": "stream",
     "text": [
      "Average time since the last purchase for all customers: 90.40 days\n"
     ]
    }
   ],
   "source": [
    "# Calculate the latest purchase date\n",
    "latest_purchase_date = df['InvoiceDate'].max()\n",
    "\n",
    "# Calculate average recency\n",
    "average_recency = df.groupby('Customer ID')['Recency'].min().mean()\n",
    "\n",
    "print(f\"Average time since the last purchase for all customers: {average_recency:.2f} days\")"
   ]
  },
  {
   "cell_type": "markdown",
   "metadata": {},
   "source": [
    "* ### How do recent buyers (e.g., those who purchased within the last 30 days) differ from older buyers in terms of frequency and monetary value?"
   ]
  },
  {
   "cell_type": "code",
   "execution_count": 20,
   "metadata": {},
   "outputs": [
    {
     "name": "stdout",
     "output_type": "stream",
     "text": [
      "Average total sales for recent buyers: £731.68\n",
      "Average total sales for older buyers: £1974.55\n",
      "Average number of transactions for recent buyers: 1.99\n",
      "Average number of transactions for older buyers: 4.94\n"
     ]
    }
   ],
   "source": [
    "# Define what is considered a recent purchase\n",
    "recent_threshold = 30\n",
    "\n",
    "# Calculate total sales and number of transactions for recent and older buyers\n",
    "recent_buyers = df[df['Recency'] <= recent_threshold]\n",
    "older_buyers = df[df['Recency'] > recent_threshold]\n",
    "\n",
    "# Aggregate metrics for recent buyers\n",
    "recent_sales = recent_buyers.groupby('Customer ID').agg({\n",
    "    'Total Amount': 'sum',\n",
    "    'Invoice': 'nunique'\n",
    "}).rename(columns={'Total Amount': 'TotalSalesRecent', 'Invoice': 'NumTransactionsRecent'})\n",
    "\n",
    "# Aggregate metrics for older buyers\n",
    "older_sales = older_buyers.groupby('Customer ID').agg({\n",
    "    'Total Amount': 'sum',\n",
    "    'Invoice': 'nunique'\n",
    "}).rename(columns={'Total Amount': 'TotalSalesOlder', 'Invoice': 'NumTransactionsOlder'})\n",
    "\n",
    "# Combine recent and older metrics\n",
    "comparison_df = pd.concat([recent_sales, older_sales], axis=1)\n",
    "\n",
    "# Calculate averages\n",
    "average_recent_sales = comparison_df['TotalSalesRecent'].mean()\n",
    "average_older_sales = comparison_df['TotalSalesOlder'].mean()\n",
    "average_recent_transactions = comparison_df['NumTransactionsRecent'].mean()\n",
    "average_older_transactions = comparison_df['NumTransactionsOlder'].mean()\n",
    "\n",
    "print(f\"Average total sales for recent buyers: £{average_recent_sales:.2f}\")\n",
    "print(f\"Average total sales for older buyers: £{average_older_sales:.2f}\")\n",
    "print(f\"Average number of transactions for recent buyers: {average_recent_transactions:.2f}\")\n",
    "print(f\"Average number of transactions for older buyers: {average_older_transactions:.2f}\")"
   ]
  },
  {
   "cell_type": "markdown",
   "metadata": {},
   "source": [
    "* ### How many unique customers are there in the dataset, and what percentage of them have made recent purchases?"
   ]
  },
  {
   "cell_type": "code",
   "execution_count": 21,
   "metadata": {},
   "outputs": [
    {
     "name": "stdout",
     "output_type": "stream",
     "text": [
      "Total number of unique customers: 4383\n",
      "Number of customers with recent purchases: 1673\n",
      "Percentage of customers with recent purchases: 38.17%\n"
     ]
    }
   ],
   "source": [
    "# Define what is considered a recent purchase (e.g., within the last 30 days)\n",
    "recent_threshold = 30\n",
    "\n",
    "# Get the unique customers\n",
    "unique_customers = df['Customer ID'].nunique()\n",
    "\n",
    "# Identify customers with recent purchases\n",
    "recent_customers = df[df['Recency'] <= recent_threshold]['Customer ID'].nunique()\n",
    "\n",
    "# Calculate the percentage of customers with recent purchases\n",
    "percentage_recent_customers = (recent_customers / unique_customers) * 100\n",
    "\n",
    "print(f\"Total number of unique customers: {unique_customers}\")\n",
    "print(f\"Number of customers with recent purchases: {recent_customers}\")\n",
    "print(f\"Percentage of customers with recent purchases: {percentage_recent_customers:.2f}%\")"
   ]
  },
  {
   "cell_type": "markdown",
   "metadata": {},
   "source": [
    "* ### Are there seasonal trends in customer purchases, and how does this affect recency scores?"
   ]
  },
  {
   "cell_type": "code",
   "execution_count": 22,
   "metadata": {},
   "outputs": [
    {
     "data": {
      "image/png": "[encoded data removed]",
      "text/plain": [
       "<Figure size 1400x700 with 1 Axes>"
      ]
     },
     "metadata": {},
     "output_type": "display_data"
    },
    {
     "data": {
      "image/png": "[encoded data removed]",
      "text/plain": [
       "<Figure size 1400x700 with 1 Axes>"
      ]
     },
     "metadata": {},
     "output_type": "display_data"
    }
   ],
   "source": [
    "# Extract month and year from the InvoiceDate\n",
    "df['MonthYear'] = df['InvoiceDate'].dt.to_period('M')\n",
    "\n",
    "# Aggregate total sales and number of transactions by month-year\n",
    "monthly_sales = df.groupby('MonthYear')['Total Amount'].sum()\n",
    "monthly_transactions = df.groupby('MonthYear')['Invoice'].nunique()\n",
    "\n",
    "# Plot total sales by month\n",
    "plt.figure(figsize=(14, 7))\n",
    "sns.lineplot(x=monthly_sales.index.astype(str), y=monthly_sales.values)\n",
    "plt.title('Total Sales by Month')\n",
    "plt.xlabel('Month-Year')\n",
    "plt.ylabel('Total Sales (£)')\n",
    "plt.xticks(rotation=45)\n",
    "plt.show()\n",
    "\n",
    "# Plot number of transactions by month\n",
    "plt.figure(figsize=(14, 7))\n",
    "sns.lineplot(x=monthly_transactions.index.astype(str), y=monthly_transactions.values)\n",
    "plt.title('Number of Transactions by Month')\n",
    "plt.xlabel('Month-Year')\n",
    "plt.ylabel('Number of Transactions')\n",
    "plt.xticks(rotation=45)\n",
    "plt.show()"
   ]
  },
  {
   "cell_type": "markdown",
   "metadata": {},
   "source": [
    "------------------------\n",
    "--------------------"
   ]
  },
  {
   "cell_type": "markdown",
   "metadata": {},
   "source": [
    "# Frequency Analysis:"
   ]
  },
  {
   "cell_type": "code",
   "execution_count": 23,
   "metadata": {},
   "outputs": [],
   "source": [
    "# Calculate the number of transactions (purchase frequency) per customer\n",
    "purchase_frequency = df.groupby('Customer ID')['Invoice'].nunique()"
   ]
  },
  {
   "cell_type": "markdown",
   "metadata": {},
   "source": [
    "* ### What is the distribution of purchase frequency across customers (e.g., one-time buyers vs. repeat buyers)?"
   ]
  },
  {
   "cell_type": "code",
   "execution_count": 24,
   "metadata": {},
   "outputs": [
    {
     "data": {
      "image/png": "[encoded data removed]",
      "text/plain": [
       "<Figure size 1200x600 with 1 Axes>"
      ]
     },
     "metadata": {},
     "output_type": "display_data"
    }
   ],
   "source": [
    "# Plot the distribution of purchase frequency\n",
    "plt.figure(figsize=(12, 6))\n",
    "sns.histplot(purchase_frequency, bins=50, kde=True)\n",
    "plt.title('Distribution of Purchase Frequency Across Customers')\n",
    "plt.xlabel('Number of Transactions')\n",
    "plt.ylabel('Number of Customers')\n",
    "plt.show()"
   ]
  },
  {
   "cell_type": "code",
   "execution_count": 25,
   "metadata": {},
   "outputs": [
    {
     "name": "stdout",
     "output_type": "stream",
     "text": [
      "Number of one-time buyers: 1267\n",
      "Number of repeat buyers: 3116\n"
     ]
    }
   ],
   "source": [
    "# Identify one-time buyers and repeat buyers\n",
    "one_time_buyers = purchase_frequency[purchase_frequency == 1].count()\n",
    "repeat_buyers = purchase_frequency[purchase_frequency > 1].count()\n",
    "\n",
    "print(f\"Number of one-time buyers: {one_time_buyers}\")\n",
    "print(f\"Number of repeat buyers: {repeat_buyers}\")"
   ]
  },
  {
   "cell_type": "markdown",
   "metadata": {},
   "source": [
    "* ### Which customer segments have the highest repeat purchase rates, and what products are they buying most often?"
   ]
  },
  {
   "cell_type": "code",
   "execution_count": 26,
   "metadata": {},
   "outputs": [
    {
     "data": {
      "text/html": [
       "<div>\n",
       "<style scoped>\n",
       "    .dataframe tbody tr th:only-of-type {\n",
       "        vertical-align: middle;\n",
       "    }\n",
       "\n",
       "    .dataframe tbody tr th {\n",
       "        vertical-align: top;\n",
       "    }\n",
       "\n",
       "    .dataframe thead th {\n",
       "        text-align: right;\n",
       "    }\n",
       "</style>\n",
       "<table border=\"1\" class=\"dataframe\">\n",
       "  <thead>\n",
       "    <tr style=\"text-align: right;\">\n",
       "      <th></th>\n",
       "      <th>Customer ID</th>\n",
       "      <th>Frequency</th>\n",
       "    </tr>\n",
       "  </thead>\n",
       "  <tbody>\n",
       "    <tr>\n",
       "      <th>0</th>\n",
       "      <td>12346.0</td>\n",
       "      <td>15</td>\n",
       "    </tr>\n",
       "    <tr>\n",
       "      <th>1</th>\n",
       "      <td>12347.0</td>\n",
       "      <td>2</td>\n",
       "    </tr>\n",
       "    <tr>\n",
       "      <th>2</th>\n",
       "      <td>12348.0</td>\n",
       "      <td>1</td>\n",
       "    </tr>\n",
       "    <tr>\n",
       "      <th>3</th>\n",
       "      <td>12349.0</td>\n",
       "      <td>4</td>\n",
       "    </tr>\n",
       "    <tr>\n",
       "      <th>4</th>\n",
       "      <td>12351.0</td>\n",
       "      <td>1</td>\n",
       "    </tr>\n",
       "    <tr>\n",
       "      <th>...</th>\n",
       "      <td>...</td>\n",
       "      <td>...</td>\n",
       "    </tr>\n",
       "    <tr>\n",
       "      <th>4378</th>\n",
       "      <td>18283.0</td>\n",
       "      <td>6</td>\n",
       "    </tr>\n",
       "    <tr>\n",
       "      <th>4379</th>\n",
       "      <td>18284.0</td>\n",
       "      <td>2</td>\n",
       "    </tr>\n",
       "    <tr>\n",
       "      <th>4380</th>\n",
       "      <td>18285.0</td>\n",
       "      <td>1</td>\n",
       "    </tr>\n",
       "    <tr>\n",
       "      <th>4381</th>\n",
       "      <td>18286.0</td>\n",
       "      <td>3</td>\n",
       "    </tr>\n",
       "    <tr>\n",
       "      <th>4382</th>\n",
       "      <td>18287.0</td>\n",
       "      <td>5</td>\n",
       "    </tr>\n",
       "  </tbody>\n",
       "</table>\n",
       "<p>4383 rows × 2 columns</p>\n",
       "</div>"
      ],
      "text/plain": [
       "     Customer ID  Frequency\n",
       "0        12346.0         15\n",
       "1        12347.0          2\n",
       "2        12348.0          1\n",
       "3        12349.0          4\n",
       "4        12351.0          1\n",
       "...          ...        ...\n",
       "4378     18283.0          6\n",
       "4379     18284.0          2\n",
       "4380     18285.0          1\n",
       "4381     18286.0          3\n",
       "4382     18287.0          5\n",
       "\n",
       "[4383 rows x 2 columns]"
      ]
     },
     "execution_count": 26,
     "metadata": {},
     "output_type": "execute_result"
    }
   ],
   "source": [
    "purchase_frequency = purchase_frequency.reset_index()\n",
    "purchase_frequency.rename(columns={'Invoice':\"Frequency\"}, inplace = True)\n",
    "purchase_frequency"
   ]
  },
  {
   "cell_type": "code",
   "execution_count": 27,
   "metadata": {},
   "outputs": [],
   "source": [
    "# Define a function to assign segments based on invoice count\n",
    "def segment_customer(invoice):\n",
    "    if invoice == 1:\n",
    "        return '1-time'\n",
    "    elif 2 <= invoice <= 3:\n",
    "        return '2-3 times'\n",
    "    elif 4 <= invoice <= 5:\n",
    "        return '4-5 times'\n",
    "    elif 6 <= invoice <= 10:\n",
    "        return '6-10 times'\n",
    "    else:\n",
    "        return '10+ times'\n",
    "\n",
    "# Apply the function to create a new column 'Segment'\n",
    "purchase_frequency['Segment'] = purchase_frequency['Frequency'].apply(segment_customer)"
   ]
  },
  {
   "cell_type": "code",
   "execution_count": 28,
   "metadata": {},
   "outputs": [
    {
     "data": {
      "text/plain": [
       "1-time        1267\n",
       "2-3 times     1259\n",
       "6-10 times     716\n",
       "4-5 times      639\n",
       "10+ times      502\n",
       "Name: Segment, dtype: int64"
      ]
     },
     "execution_count": 28,
     "metadata": {},
     "output_type": "execute_result"
    }
   ],
   "source": [
    "# Group by 'Segment' and count the number of customers in each segment\n",
    "segment_counts = purchase_frequency['Segment'].value_counts()\n",
    "\n",
    "# Display the results\n",
    "segment_counts"
   ]
  },
  {
   "cell_type": "markdown",
   "metadata": {},
   "source": [
    "* ### Which products bought by repeat customers?"
   ]
  },
  {
   "cell_type": "code",
   "execution_count": 29,
   "metadata": {},
   "outputs": [
    {
     "data": {
      "text/html": [
       "<div>\n",
       "<style scoped>\n",
       "    .dataframe tbody tr th:only-of-type {\n",
       "        vertical-align: middle;\n",
       "    }\n",
       "\n",
       "    .dataframe tbody tr th {\n",
       "        vertical-align: top;\n",
       "    }\n",
       "\n",
       "    .dataframe thead th {\n",
       "        text-align: right;\n",
       "    }\n",
       "</style>\n",
       "<table border=\"1\" class=\"dataframe\">\n",
       "  <thead>\n",
       "    <tr style=\"text-align: right;\">\n",
       "      <th></th>\n",
       "      <th>Customer ID</th>\n",
       "      <th>Frequency</th>\n",
       "      <th>Segment</th>\n",
       "    </tr>\n",
       "  </thead>\n",
       "  <tbody>\n",
       "    <tr>\n",
       "      <th>0</th>\n",
       "      <td>12346.0</td>\n",
       "      <td>15</td>\n",
       "      <td>10+ times</td>\n",
       "    </tr>\n",
       "    <tr>\n",
       "      <th>1</th>\n",
       "      <td>12347.0</td>\n",
       "      <td>2</td>\n",
       "      <td>2-3 times</td>\n",
       "    </tr>\n",
       "    <tr>\n",
       "      <th>2</th>\n",
       "      <td>12348.0</td>\n",
       "      <td>1</td>\n",
       "      <td>1-time</td>\n",
       "    </tr>\n",
       "    <tr>\n",
       "      <th>3</th>\n",
       "      <td>12349.0</td>\n",
       "      <td>4</td>\n",
       "      <td>4-5 times</td>\n",
       "    </tr>\n",
       "    <tr>\n",
       "      <th>4</th>\n",
       "      <td>12351.0</td>\n",
       "      <td>1</td>\n",
       "      <td>1-time</td>\n",
       "    </tr>\n",
       "  </tbody>\n",
       "</table>\n",
       "</div>"
      ],
      "text/plain": [
       "  Customer ID  Frequency    Segment\n",
       "0     12346.0         15  10+ times\n",
       "1     12347.0          2  2-3 times\n",
       "2     12348.0          1     1-time\n",
       "3     12349.0          4  4-5 times\n",
       "4     12351.0          1     1-time"
      ]
     },
     "execution_count": 29,
     "metadata": {},
     "output_type": "execute_result"
    }
   ],
   "source": [
    "purchase_frequency.head()"
   ]
  },
  {
   "cell_type": "code",
   "execution_count": 30,
   "metadata": {},
   "outputs": [
    {
     "data": {
      "text/html": [
       "<div>\n",
       "<style scoped>\n",
       "    .dataframe tbody tr th:only-of-type {\n",
       "        vertical-align: middle;\n",
       "    }\n",
       "\n",
       "    .dataframe tbody tr th {\n",
       "        vertical-align: top;\n",
       "    }\n",
       "\n",
       "    .dataframe thead th {\n",
       "        text-align: right;\n",
       "    }\n",
       "</style>\n",
       "<table border=\"1\" class=\"dataframe\">\n",
       "  <thead>\n",
       "    <tr style=\"text-align: right;\">\n",
       "      <th></th>\n",
       "      <th>Customer ID</th>\n",
       "      <th>Frequency</th>\n",
       "      <th>Segment</th>\n",
       "      <th>Invoice</th>\n",
       "      <th>StockCode</th>\n",
       "      <th>Description</th>\n",
       "      <th>Quantity</th>\n",
       "      <th>InvoiceDate</th>\n",
       "      <th>Price</th>\n",
       "      <th>Country</th>\n",
       "      <th>Transaction Type</th>\n",
       "      <th>Total Amount</th>\n",
       "      <th>Recency</th>\n",
       "      <th>MonthYear</th>\n",
       "    </tr>\n",
       "  </thead>\n",
       "  <tbody>\n",
       "    <tr>\n",
       "      <th>0</th>\n",
       "      <td>12346.0</td>\n",
       "      <td>15</td>\n",
       "      <td>10+ times</td>\n",
       "      <td>491725</td>\n",
       "      <td>TEST001</td>\n",
       "      <td>This is a test product.</td>\n",
       "      <td>10</td>\n",
       "      <td>2009-12-14 08:34:00</td>\n",
       "      <td>4.50</td>\n",
       "      <td>United Kingdom</td>\n",
       "      <td>Sale</td>\n",
       "      <td>45.0</td>\n",
       "      <td>360</td>\n",
       "      <td>2009-12</td>\n",
       "    </tr>\n",
       "    <tr>\n",
       "      <th>1</th>\n",
       "      <td>12346.0</td>\n",
       "      <td>15</td>\n",
       "      <td>10+ times</td>\n",
       "      <td>491742</td>\n",
       "      <td>TEST001</td>\n",
       "      <td>This is a test product.</td>\n",
       "      <td>5</td>\n",
       "      <td>2009-12-14 11:00:00</td>\n",
       "      <td>4.50</td>\n",
       "      <td>United Kingdom</td>\n",
       "      <td>Sale</td>\n",
       "      <td>22.5</td>\n",
       "      <td>360</td>\n",
       "      <td>2009-12</td>\n",
       "    </tr>\n",
       "    <tr>\n",
       "      <th>2</th>\n",
       "      <td>12346.0</td>\n",
       "      <td>15</td>\n",
       "      <td>10+ times</td>\n",
       "      <td>491744</td>\n",
       "      <td>TEST001</td>\n",
       "      <td>This is a test product.</td>\n",
       "      <td>5</td>\n",
       "      <td>2009-12-14 11:02:00</td>\n",
       "      <td>4.50</td>\n",
       "      <td>United Kingdom</td>\n",
       "      <td>Sale</td>\n",
       "      <td>22.5</td>\n",
       "      <td>360</td>\n",
       "      <td>2009-12</td>\n",
       "    </tr>\n",
       "    <tr>\n",
       "      <th>3</th>\n",
       "      <td>12346.0</td>\n",
       "      <td>15</td>\n",
       "      <td>10+ times</td>\n",
       "      <td>492718</td>\n",
       "      <td>TEST001</td>\n",
       "      <td>This is a test product.</td>\n",
       "      <td>5</td>\n",
       "      <td>2009-12-18 10:47:00</td>\n",
       "      <td>4.50</td>\n",
       "      <td>United Kingdom</td>\n",
       "      <td>Sale</td>\n",
       "      <td>22.5</td>\n",
       "      <td>356</td>\n",
       "      <td>2009-12</td>\n",
       "    </tr>\n",
       "    <tr>\n",
       "      <th>4</th>\n",
       "      <td>12346.0</td>\n",
       "      <td>15</td>\n",
       "      <td>10+ times</td>\n",
       "      <td>492722</td>\n",
       "      <td>TEST002</td>\n",
       "      <td>This is a test product.</td>\n",
       "      <td>1</td>\n",
       "      <td>2009-12-18 10:55:00</td>\n",
       "      <td>1.00</td>\n",
       "      <td>United Kingdom</td>\n",
       "      <td>Sale</td>\n",
       "      <td>1.0</td>\n",
       "      <td>356</td>\n",
       "      <td>2009-12</td>\n",
       "    </tr>\n",
       "    <tr>\n",
       "      <th>...</th>\n",
       "      <td>...</td>\n",
       "      <td>...</td>\n",
       "      <td>...</td>\n",
       "      <td>...</td>\n",
       "      <td>...</td>\n",
       "      <td>...</td>\n",
       "      <td>...</td>\n",
       "      <td>...</td>\n",
       "      <td>...</td>\n",
       "      <td>...</td>\n",
       "      <td>...</td>\n",
       "      <td>...</td>\n",
       "      <td>...</td>\n",
       "      <td>...</td>\n",
       "    </tr>\n",
       "    <tr>\n",
       "      <th>390904</th>\n",
       "      <td>18287.0</td>\n",
       "      <td>5</td>\n",
       "      <td>4-5 times</td>\n",
       "      <td>534346</td>\n",
       "      <td>22866</td>\n",
       "      <td>HAND WARMER SCOTTY DOG DESIGN</td>\n",
       "      <td>12</td>\n",
       "      <td>2010-11-22 11:51:00</td>\n",
       "      <td>2.10</td>\n",
       "      <td>United Kingdom</td>\n",
       "      <td>Sale</td>\n",
       "      <td>25.2</td>\n",
       "      <td>17</td>\n",
       "      <td>2010-11</td>\n",
       "    </tr>\n",
       "    <tr>\n",
       "      <th>390905</th>\n",
       "      <td>18287.0</td>\n",
       "      <td>5</td>\n",
       "      <td>4-5 times</td>\n",
       "      <td>534346</td>\n",
       "      <td>85039A</td>\n",
       "      <td>SET/4 RED MINI ROSE CANDLE IN BOWL</td>\n",
       "      <td>48</td>\n",
       "      <td>2010-11-22 11:51:00</td>\n",
       "      <td>1.45</td>\n",
       "      <td>United Kingdom</td>\n",
       "      <td>Sale</td>\n",
       "      <td>69.6</td>\n",
       "      <td>17</td>\n",
       "      <td>2010-11</td>\n",
       "    </tr>\n",
       "    <tr>\n",
       "      <th>390906</th>\n",
       "      <td>18287.0</td>\n",
       "      <td>5</td>\n",
       "      <td>4-5 times</td>\n",
       "      <td>534346</td>\n",
       "      <td>85039B</td>\n",
       "      <td>S/4 IVORY MINI ROSE CANDLE IN BOWL</td>\n",
       "      <td>48</td>\n",
       "      <td>2010-11-22 11:51:00</td>\n",
       "      <td>1.45</td>\n",
       "      <td>United Kingdom</td>\n",
       "      <td>Sale</td>\n",
       "      <td>69.6</td>\n",
       "      <td>17</td>\n",
       "      <td>2010-11</td>\n",
       "    </tr>\n",
       "    <tr>\n",
       "      <th>390907</th>\n",
       "      <td>18287.0</td>\n",
       "      <td>5</td>\n",
       "      <td>4-5 times</td>\n",
       "      <td>534346</td>\n",
       "      <td>85040A</td>\n",
       "      <td>S/4 PINK FLOWER CANDLES IN BOWL</td>\n",
       "      <td>48</td>\n",
       "      <td>2010-11-22 11:51:00</td>\n",
       "      <td>1.45</td>\n",
       "      <td>United Kingdom</td>\n",
       "      <td>Sale</td>\n",
       "      <td>69.6</td>\n",
       "      <td>17</td>\n",
       "      <td>2010-11</td>\n",
       "    </tr>\n",
       "    <tr>\n",
       "      <th>390908</th>\n",
       "      <td>18287.0</td>\n",
       "      <td>5</td>\n",
       "      <td>4-5 times</td>\n",
       "      <td>534346</td>\n",
       "      <td>C2</td>\n",
       "      <td>CARRIAGE</td>\n",
       "      <td>1</td>\n",
       "      <td>2010-11-22 11:51:00</td>\n",
       "      <td>50.00</td>\n",
       "      <td>United Kingdom</td>\n",
       "      <td>Sale</td>\n",
       "      <td>50.0</td>\n",
       "      <td>17</td>\n",
       "      <td>2010-11</td>\n",
       "    </tr>\n",
       "  </tbody>\n",
       "</table>\n",
       "<p>390909 rows × 14 columns</p>\n",
       "</div>"
      ],
      "text/plain": [
       "       Customer ID  Frequency    Segment Invoice StockCode  \\\n",
       "0          12346.0         15  10+ times  491725   TEST001   \n",
       "1          12346.0         15  10+ times  491742   TEST001   \n",
       "2          12346.0         15  10+ times  491744   TEST001   \n",
       "3          12346.0         15  10+ times  492718   TEST001   \n",
       "4          12346.0         15  10+ times  492722   TEST002   \n",
       "...            ...        ...        ...     ...       ...   \n",
       "390904     18287.0          5  4-5 times  534346     22866   \n",
       "390905     18287.0          5  4-5 times  534346    85039A   \n",
       "390906     18287.0          5  4-5 times  534346    85039B   \n",
       "390907     18287.0          5  4-5 times  534346    85040A   \n",
       "390908     18287.0          5  4-5 times  534346        C2   \n",
       "\n",
       "                               Description  Quantity         InvoiceDate  \\\n",
       "0                  This is a test product.        10 2009-12-14 08:34:00   \n",
       "1                  This is a test product.         5 2009-12-14 11:00:00   \n",
       "2                  This is a test product.         5 2009-12-14 11:02:00   \n",
       "3                  This is a test product.         5 2009-12-18 10:47:00   \n",
       "4                  This is a test product.         1 2009-12-18 10:55:00   \n",
       "...                                    ...       ...                 ...   \n",
       "390904       HAND WARMER SCOTTY DOG DESIGN        12 2010-11-22 11:51:00   \n",
       "390905  SET/4 RED MINI ROSE CANDLE IN BOWL        48 2010-11-22 11:51:00   \n",
       "390906  S/4 IVORY MINI ROSE CANDLE IN BOWL        48 2010-11-22 11:51:00   \n",
       "390907     S/4 PINK FLOWER CANDLES IN BOWL        48 2010-11-22 11:51:00   \n",
       "390908                            CARRIAGE         1 2010-11-22 11:51:00   \n",
       "\n",
       "        Price         Country Transaction Type  Total Amount  Recency  \\\n",
       "0        4.50  United Kingdom             Sale          45.0      360   \n",
       "1        4.50  United Kingdom             Sale          22.5      360   \n",
       "2        4.50  United Kingdom             Sale          22.5      360   \n",
       "3        4.50  United Kingdom             Sale          22.5      356   \n",
       "4        1.00  United Kingdom             Sale           1.0      356   \n",
       "...       ...             ...              ...           ...      ...   \n",
       "390904   2.10  United Kingdom             Sale          25.2       17   \n",
       "390905   1.45  United Kingdom             Sale          69.6       17   \n",
       "390906   1.45  United Kingdom             Sale          69.6       17   \n",
       "390907   1.45  United Kingdom             Sale          69.6       17   \n",
       "390908  50.00  United Kingdom             Sale          50.0       17   \n",
       "\n",
       "       MonthYear  \n",
       "0        2009-12  \n",
       "1        2009-12  \n",
       "2        2009-12  \n",
       "3        2009-12  \n",
       "4        2009-12  \n",
       "...          ...  \n",
       "390904   2010-11  \n",
       "390905   2010-11  \n",
       "390906   2010-11  \n",
       "390907   2010-11  \n",
       "390908   2010-11  \n",
       "\n",
       "[390909 rows x 14 columns]"
      ]
     },
     "execution_count": 30,
     "metadata": {},
     "output_type": "execute_result"
    }
   ],
   "source": [
    "# Find the products most frequently bought by repeat customers\n",
    "# Identify repeat customers (those with more than one invoice)\n",
    "repeat_customers = purchase_frequency[purchase_frequency['Frequency'] > 1]\n",
    "\n",
    "repeat_customers = pd.merge(repeat_customers, df, on='Customer ID')\n",
    "\n",
    "repeat_customers"
   ]
  },
  {
   "cell_type": "code",
   "execution_count": 31,
   "metadata": {},
   "outputs": [
    {
     "name": "stdout",
     "output_type": "stream",
     "text": [
      "Top 10 products bought by repeat customers:\n"
     ]
    },
    {
     "data": {
      "text/html": [
       "<div>\n",
       "<style scoped>\n",
       "    .dataframe tbody tr th:only-of-type {\n",
       "        vertical-align: middle;\n",
       "    }\n",
       "\n",
       "    .dataframe tbody tr th {\n",
       "        vertical-align: top;\n",
       "    }\n",
       "\n",
       "    .dataframe thead th {\n",
       "        text-align: right;\n",
       "    }\n",
       "</style>\n",
       "<table border=\"1\" class=\"dataframe\">\n",
       "  <thead>\n",
       "    <tr style=\"text-align: right;\">\n",
       "      <th></th>\n",
       "      <th>StockCode</th>\n",
       "      <th>Description</th>\n",
       "      <th>PurchaseCount</th>\n",
       "    </tr>\n",
       "  </thead>\n",
       "  <tbody>\n",
       "    <tr>\n",
       "      <th>0</th>\n",
       "      <td>85123A</td>\n",
       "      <td>WHITE HANGING HEART T-LIGHT HOLDER</td>\n",
       "      <td>3082</td>\n",
       "    </tr>\n",
       "    <tr>\n",
       "      <th>1</th>\n",
       "      <td>22423</td>\n",
       "      <td>REGENCY CAKESTAND 3 TIER</td>\n",
       "      <td>1793</td>\n",
       "    </tr>\n",
       "    <tr>\n",
       "      <th>2</th>\n",
       "      <td>21232</td>\n",
       "      <td>STRAWBERRY CERAMIC TRINKET BOX</td>\n",
       "      <td>1481</td>\n",
       "    </tr>\n",
       "    <tr>\n",
       "      <th>3</th>\n",
       "      <td>84879</td>\n",
       "      <td>ASSORTED COLOUR BIRD ORNAMENT</td>\n",
       "      <td>1307</td>\n",
       "    </tr>\n",
       "    <tr>\n",
       "      <th>4</th>\n",
       "      <td>21754</td>\n",
       "      <td>HOME BUILDING BLOCK WORD</td>\n",
       "      <td>1171</td>\n",
       "    </tr>\n",
       "    <tr>\n",
       "      <th>5</th>\n",
       "      <td>21212</td>\n",
       "      <td>PACK OF 72 RETRO SPOT CAKE CASES</td>\n",
       "      <td>1163</td>\n",
       "    </tr>\n",
       "    <tr>\n",
       "      <th>6</th>\n",
       "      <td>84991</td>\n",
       "      <td>60 TEATIME FAIRY CAKE CASES</td>\n",
       "      <td>1122</td>\n",
       "    </tr>\n",
       "    <tr>\n",
       "      <th>7</th>\n",
       "      <td>20725</td>\n",
       "      <td>LUNCH BAG RED SPOTTY</td>\n",
       "      <td>1086</td>\n",
       "    </tr>\n",
       "    <tr>\n",
       "      <th>8</th>\n",
       "      <td>21034</td>\n",
       "      <td>REX CASH+CARRY JUMBO SHOPPER</td>\n",
       "      <td>1082</td>\n",
       "    </tr>\n",
       "    <tr>\n",
       "      <th>9</th>\n",
       "      <td>85099B</td>\n",
       "      <td>JUMBO BAG RED RETROSPOT</td>\n",
       "      <td>1074</td>\n",
       "    </tr>\n",
       "  </tbody>\n",
       "</table>\n",
       "</div>"
      ],
      "text/plain": [
       "  StockCode                         Description  PurchaseCount\n",
       "0    85123A  WHITE HANGING HEART T-LIGHT HOLDER           3082\n",
       "1     22423            REGENCY CAKESTAND 3 TIER           1793\n",
       "2     21232      STRAWBERRY CERAMIC TRINKET BOX           1481\n",
       "3     84879       ASSORTED COLOUR BIRD ORNAMENT           1307\n",
       "4     21754            HOME BUILDING BLOCK WORD           1171\n",
       "5     21212    PACK OF 72 RETRO SPOT CAKE CASES           1163\n",
       "6     84991         60 TEATIME FAIRY CAKE CASES           1122\n",
       "7     20725                LUNCH BAG RED SPOTTY           1086\n",
       "8     21034        REX CASH+CARRY JUMBO SHOPPER           1082\n",
       "9    85099B             JUMBO BAG RED RETROSPOT           1074"
      ]
     },
     "execution_count": 31,
     "metadata": {},
     "output_type": "execute_result"
    }
   ],
   "source": [
    "products_bought_by_repeat_customers = repeat_customers[['StockCode','Description']].value_counts().reset_index(name='PurchaseCount')\n",
    "top_products = products_bought_by_repeat_customers .sort_values(by='PurchaseCount', ascending=False).head(10)\n",
    "\n",
    "print(\"Top 10 products bought by repeat customers:\")\n",
    "top_products"
   ]
  },
  {
   "cell_type": "markdown",
   "metadata": {},
   "source": [
    "# Monetary Value Analysis:"
   ]
  },
  {
   "cell_type": "markdown",
   "metadata": {},
   "source": [
    "* ### What is the average monetary value of a transaction, and how does it vary by customer segment?"
   ]
  },
  {
   "cell_type": "code",
   "execution_count": 32,
   "metadata": {},
   "outputs": [
    {
     "name": "stdout",
     "output_type": "stream",
     "text": [
      "Average monetary value of a transaction: £22.31\n"
     ]
    }
   ],
   "source": [
    "# Calculate the average monetary value of a transaction\n",
    "average_transaction_value = df['Total Amount'].mean()\n",
    "\n",
    "print(f\"Average monetary value of a transaction: £{average_transaction_value:.2f}\")"
   ]
  },
  {
   "cell_type": "markdown",
   "metadata": {},
   "source": [
    "* ### Which customers contribute the most to our total revenue, and are they also the most frequent buyers?"
   ]
  },
  {
   "cell_type": "code",
   "execution_count": 33,
   "metadata": {},
   "outputs": [
    {
     "data": {
      "text/html": [
       "<div>\n",
       "<style scoped>\n",
       "    .dataframe tbody tr th:only-of-type {\n",
       "        vertical-align: middle;\n",
       "    }\n",
       "\n",
       "    .dataframe tbody tr th {\n",
       "        vertical-align: top;\n",
       "    }\n",
       "\n",
       "    .dataframe thead th {\n",
       "        text-align: right;\n",
       "    }\n",
       "</style>\n",
       "<table border=\"1\" class=\"dataframe\">\n",
       "  <thead>\n",
       "    <tr style=\"text-align: right;\">\n",
       "      <th></th>\n",
       "      <th>Total Revenue</th>\n",
       "      <th>Purchase Frequency</th>\n",
       "    </tr>\n",
       "    <tr>\n",
       "      <th>Customer ID</th>\n",
       "      <th></th>\n",
       "      <th></th>\n",
       "    </tr>\n",
       "  </thead>\n",
       "  <tbody>\n",
       "    <tr>\n",
       "      <th>18102.0</th>\n",
       "      <td>356551.97</td>\n",
       "      <td>95</td>\n",
       "    </tr>\n",
       "    <tr>\n",
       "      <th>14646.0</th>\n",
       "      <td>252939.95</td>\n",
       "      <td>87</td>\n",
       "    </tr>\n",
       "    <tr>\n",
       "      <th>14156.0</th>\n",
       "      <td>209952.93</td>\n",
       "      <td>138</td>\n",
       "    </tr>\n",
       "    <tr>\n",
       "      <th>14911.0</th>\n",
       "      <td>166619.23</td>\n",
       "      <td>270</td>\n",
       "    </tr>\n",
       "    <tr>\n",
       "      <th>13694.0</th>\n",
       "      <td>134713.96</td>\n",
       "      <td>105</td>\n",
       "    </tr>\n",
       "    <tr>\n",
       "      <th>16684.0</th>\n",
       "      <td>85368.25</td>\n",
       "      <td>34</td>\n",
       "    </tr>\n",
       "    <tr>\n",
       "      <th>17511.0</th>\n",
       "      <td>85321.74</td>\n",
       "      <td>42</td>\n",
       "    </tr>\n",
       "    <tr>\n",
       "      <th>15061.0</th>\n",
       "      <td>84406.02</td>\n",
       "      <td>90</td>\n",
       "    </tr>\n",
       "    <tr>\n",
       "      <th>16754.0</th>\n",
       "      <td>76441.96</td>\n",
       "      <td>35</td>\n",
       "    </tr>\n",
       "    <tr>\n",
       "      <th>17949.0</th>\n",
       "      <td>74090.45</td>\n",
       "      <td>87</td>\n",
       "    </tr>\n",
       "  </tbody>\n",
       "</table>\n",
       "</div>"
      ],
      "text/plain": [
       "             Total Revenue  Purchase Frequency\n",
       "Customer ID                                   \n",
       "18102.0          356551.97                  95\n",
       "14646.0          252939.95                  87\n",
       "14156.0          209952.93                 138\n",
       "14911.0          166619.23                 270\n",
       "13694.0          134713.96                 105\n",
       "16684.0           85368.25                  34\n",
       "17511.0           85321.74                  42\n",
       "15061.0           84406.02                  90\n",
       "16754.0           76441.96                  35\n",
       "17949.0           74090.45                  87"
      ]
     },
     "execution_count": 33,
     "metadata": {},
     "output_type": "execute_result"
    }
   ],
   "source": [
    "total_revenue_per_customer = repeat_customers.groupby('Customer ID')['Total Amount'].sum()\n",
    "top_revenue_contributors = total_revenue_per_customer.sort_values(ascending=False)\n",
    "\n",
    "# Step 3: Compare with purchase frequency\n",
    "frequency_data = purchase_frequency.set_index('Customer ID')['Frequency']\n",
    "\n",
    "# Merge the total revenue and frequency data\n",
    "revenue_and_frequency = pd.DataFrame({\n",
    "    'Total Revenue': top_revenue_contributors,\n",
    "    'Purchase Frequency': frequency_data\n",
    "})\n",
    "\n",
    "# Sort by revenue to identify patterns\n",
    "revenue_and_frequency_sorted = revenue_and_frequency.sort_values(by='Total Revenue', ascending=False)\n",
    "\n",
    "# Display the result\n",
    "revenue_and_frequency_sorted.head(10)"
   ]
  },
  {
   "cell_type": "markdown",
   "metadata": {},
   "source": [
    "* ### Are there specific products  driving higher monetary values among top customers?"
   ]
  },
  {
   "cell_type": "code",
   "execution_count": 34,
   "metadata": {},
   "outputs": [
    {
     "name": "stdout",
     "output_type": "stream",
     "text": [
      "Revenue Contribution per Product among Top Customers:\n"
     ]
    },
    {
     "data": {
      "text/html": [
       "<div>\n",
       "<style scoped>\n",
       "    .dataframe tbody tr th:only-of-type {\n",
       "        vertical-align: middle;\n",
       "    }\n",
       "\n",
       "    .dataframe tbody tr th {\n",
       "        vertical-align: top;\n",
       "    }\n",
       "\n",
       "    .dataframe thead th {\n",
       "        text-align: right;\n",
       "    }\n",
       "</style>\n",
       "<table border=\"1\" class=\"dataframe\">\n",
       "  <thead>\n",
       "    <tr style=\"text-align: right;\">\n",
       "      <th></th>\n",
       "      <th>StockCode</th>\n",
       "      <th>Description</th>\n",
       "      <th>Total Amount</th>\n",
       "    </tr>\n",
       "  </thead>\n",
       "  <tbody>\n",
       "    <tr>\n",
       "      <th>2681</th>\n",
       "      <td>M</td>\n",
       "      <td>Manual</td>\n",
       "      <td>57018.58</td>\n",
       "    </tr>\n",
       "    <tr>\n",
       "      <th>1274</th>\n",
       "      <td>22423</td>\n",
       "      <td>REGENCY CAKESTAND 3 TIER</td>\n",
       "      <td>45443.55</td>\n",
       "    </tr>\n",
       "    <tr>\n",
       "      <th>2579</th>\n",
       "      <td>85123A</td>\n",
       "      <td>WHITE HANGING HEART T-LIGHT HOLDER</td>\n",
       "      <td>17631.72</td>\n",
       "    </tr>\n",
       "    <tr>\n",
       "      <th>637</th>\n",
       "      <td>21623</td>\n",
       "      <td>VINTAGE UNION JACK MEMOBOARD</td>\n",
       "      <td>16689.84</td>\n",
       "    </tr>\n",
       "    <tr>\n",
       "      <th>1057</th>\n",
       "      <td>22188</td>\n",
       "      <td>BLACK HEART CARD HOLDER</td>\n",
       "      <td>14464.28</td>\n",
       "    </tr>\n",
       "    <tr>\n",
       "      <th>1892</th>\n",
       "      <td>82484</td>\n",
       "      <td>WOOD BLACK BOARD ANT WHITE FINISH</td>\n",
       "      <td>13950.78</td>\n",
       "    </tr>\n",
       "    <tr>\n",
       "      <th>1058</th>\n",
       "      <td>22189</td>\n",
       "      <td>CREAM HEART CARD HOLDER</td>\n",
       "      <td>13898.80</td>\n",
       "    </tr>\n",
       "    <tr>\n",
       "      <th>2117</th>\n",
       "      <td>15056BL</td>\n",
       "      <td>EDWARDIAN PARASOL BLACK</td>\n",
       "      <td>10770.90</td>\n",
       "    </tr>\n",
       "    <tr>\n",
       "      <th>2118</th>\n",
       "      <td>15056N</td>\n",
       "      <td>EDWARDIAN PARASOL NATURAL</td>\n",
       "      <td>9975.00</td>\n",
       "    </tr>\n",
       "    <tr>\n",
       "      <th>2003</th>\n",
       "      <td>84879</td>\n",
       "      <td>ASSORTED COLOUR BIRD ORNAMENT</td>\n",
       "      <td>9636.08</td>\n",
       "    </tr>\n",
       "  </tbody>\n",
       "</table>\n",
       "</div>"
      ],
      "text/plain": [
       "     StockCode                         Description  Total Amount\n",
       "2681         M                              Manual      57018.58\n",
       "1274     22423            REGENCY CAKESTAND 3 TIER      45443.55\n",
       "2579    85123A  WHITE HANGING HEART T-LIGHT HOLDER      17631.72\n",
       "637      21623        VINTAGE UNION JACK MEMOBOARD      16689.84\n",
       "1057     22188             BLACK HEART CARD HOLDER      14464.28\n",
       "1892     82484   WOOD BLACK BOARD ANT WHITE FINISH      13950.78\n",
       "1058     22189             CREAM HEART CARD HOLDER      13898.80\n",
       "2117   15056BL             EDWARDIAN PARASOL BLACK      10770.90\n",
       "2118    15056N           EDWARDIAN PARASOL NATURAL       9975.00\n",
       "2003     84879       ASSORTED COLOUR BIRD ORNAMENT       9636.08"
      ]
     },
     "execution_count": 34,
     "metadata": {},
     "output_type": "execute_result"
    }
   ],
   "source": [
    "# Consider the top 3 customers for this analysis (or any other threshold you define)\n",
    "top_customers = total_revenue_per_customer.sort_values(ascending=False).head(10).index\n",
    "\n",
    "# Step 2: Filter data to include only top customers\n",
    "top_customers_data = df[df['Customer ID'].isin(top_customers)]\n",
    "revenue_per_product = top_customers_data.groupby(['StockCode','Description'])['Total Amount'].sum().reset_index()\n",
    "\n",
    "# Step 4: Display the results\n",
    "print(\"Revenue Contribution per Product among Top Customers:\")\n",
    "revenue_per_product.sort_values(by='Total Amount', ascending=False).head(10)"
   ]
  },
  {
   "cell_type": "markdown",
   "metadata": {},
   "source": [
    "----------------------------\n",
    "---------------------------"
   ]
  },
  {
   "cell_type": "markdown",
   "metadata": {},
   "source": [
    "# RFM Score"
   ]
  },
  {
   "cell_type": "code",
   "execution_count": 35,
   "metadata": {},
   "outputs": [],
   "source": [
    "# Calculate Recency (days since last purchase)\n",
    "latest_purchase_date = df['InvoiceDate'].max()\n",
    "rfm_recency = df.groupby('Customer ID')['InvoiceDate'].max().reset_index()\n",
    "rfm_recency['Recency'] = (latest_purchase_date - rfm_recency['InvoiceDate']).dt.days\n",
    "\n",
    "# Calculate Frequency (number of transactions)\n",
    "rfm_frequency = df.groupby('Customer ID')['Invoice'].nunique().reset_index()\n",
    "rfm_frequency.columns = ['Customer ID', 'Frequency']\n",
    "\n",
    "# Calculate Monetary (total spending)\n",
    "rfm_monetary = df.groupby('Customer ID')['Total Amount'].sum().reset_index()\n",
    "rfm_monetary.columns = ['Customer ID', 'Monetary']\n"
   ]
  },
  {
   "cell_type": "code",
   "execution_count": 36,
   "metadata": {},
   "outputs": [
    {
     "name": "stdout",
     "output_type": "stream",
     "text": [
      "RFM Table:\n"
     ]
    },
    {
     "data": {
      "text/html": [
       "<div>\n",
       "<style scoped>\n",
       "    .dataframe tbody tr th:only-of-type {\n",
       "        vertical-align: middle;\n",
       "    }\n",
       "\n",
       "    .dataframe tbody tr th {\n",
       "        vertical-align: top;\n",
       "    }\n",
       "\n",
       "    .dataframe thead th {\n",
       "        text-align: right;\n",
       "    }\n",
       "</style>\n",
       "<table border=\"1\" class=\"dataframe\">\n",
       "  <thead>\n",
       "    <tr style=\"text-align: right;\">\n",
       "      <th></th>\n",
       "      <th>Customer ID</th>\n",
       "      <th>InvoiceDate</th>\n",
       "      <th>Recency</th>\n",
       "      <th>Frequency</th>\n",
       "      <th>Monetary</th>\n",
       "    </tr>\n",
       "  </thead>\n",
       "  <tbody>\n",
       "    <tr>\n",
       "      <th>0</th>\n",
       "      <td>12346.0</td>\n",
       "      <td>2010-10-04 16:33:00</td>\n",
       "      <td>66</td>\n",
       "      <td>15</td>\n",
       "      <td>810.40</td>\n",
       "    </tr>\n",
       "    <tr>\n",
       "      <th>1</th>\n",
       "      <td>12347.0</td>\n",
       "      <td>2010-12-07 14:57:00</td>\n",
       "      <td>2</td>\n",
       "      <td>2</td>\n",
       "      <td>1323.32</td>\n",
       "    </tr>\n",
       "    <tr>\n",
       "      <th>2</th>\n",
       "      <td>12348.0</td>\n",
       "      <td>2010-09-27 14:59:00</td>\n",
       "      <td>73</td>\n",
       "      <td>1</td>\n",
       "      <td>222.16</td>\n",
       "    </tr>\n",
       "    <tr>\n",
       "      <th>3</th>\n",
       "      <td>12349.0</td>\n",
       "      <td>2010-10-28 08:23:00</td>\n",
       "      <td>42</td>\n",
       "      <td>4</td>\n",
       "      <td>2695.29</td>\n",
       "    </tr>\n",
       "    <tr>\n",
       "      <th>4</th>\n",
       "      <td>12351.0</td>\n",
       "      <td>2010-11-29 15:23:00</td>\n",
       "      <td>10</td>\n",
       "      <td>1</td>\n",
       "      <td>300.93</td>\n",
       "    </tr>\n",
       "  </tbody>\n",
       "</table>\n",
       "</div>"
      ],
      "text/plain": [
       "  Customer ID         InvoiceDate  Recency  Frequency  Monetary\n",
       "0     12346.0 2010-10-04 16:33:00       66         15    810.40\n",
       "1     12347.0 2010-12-07 14:57:00        2          2   1323.32\n",
       "2     12348.0 2010-09-27 14:59:00       73          1    222.16\n",
       "3     12349.0 2010-10-28 08:23:00       42          4   2695.29\n",
       "4     12351.0 2010-11-29 15:23:00       10          1    300.93"
      ]
     },
     "execution_count": 36,
     "metadata": {},
     "output_type": "execute_result"
    }
   ],
   "source": [
    "# Combine RFM metrics into one table\n",
    "rfm_table = rfm_recency.merge(rfm_frequency, on='Customer ID').merge(rfm_monetary, on='Customer ID')\n",
    "\n",
    "print(\"RFM Table:\")\n",
    "rfm_table.head()"
   ]
  },
  {
   "cell_type": "code",
   "execution_count": 37,
   "metadata": {},
   "outputs": [
    {
     "name": "stdout",
     "output_type": "stream",
     "text": [
      "RFM Table with Scores:\n"
     ]
    },
    {
     "data": {
      "text/html": [
       "<div>\n",
       "<style scoped>\n",
       "    .dataframe tbody tr th:only-of-type {\n",
       "        vertical-align: middle;\n",
       "    }\n",
       "\n",
       "    .dataframe tbody tr th {\n",
       "        vertical-align: top;\n",
       "    }\n",
       "\n",
       "    .dataframe thead th {\n",
       "        text-align: right;\n",
       "    }\n",
       "</style>\n",
       "<table border=\"1\" class=\"dataframe\">\n",
       "  <thead>\n",
       "    <tr style=\"text-align: right;\">\n",
       "      <th></th>\n",
       "      <th>Customer ID</th>\n",
       "      <th>InvoiceDate</th>\n",
       "      <th>Recency</th>\n",
       "      <th>Frequency</th>\n",
       "      <th>Monetary</th>\n",
       "      <th>R_Score</th>\n",
       "      <th>F_Score</th>\n",
       "      <th>M_Score</th>\n",
       "      <th>RFM_Score</th>\n",
       "    </tr>\n",
       "  </thead>\n",
       "  <tbody>\n",
       "    <tr>\n",
       "      <th>0</th>\n",
       "      <td>12346.0</td>\n",
       "      <td>2010-10-04 16:33:00</td>\n",
       "      <td>66</td>\n",
       "      <td>15</td>\n",
       "      <td>810.40</td>\n",
       "      <td>3</td>\n",
       "      <td>5</td>\n",
       "      <td>3</td>\n",
       "      <td>353</td>\n",
       "    </tr>\n",
       "    <tr>\n",
       "      <th>1</th>\n",
       "      <td>12347.0</td>\n",
       "      <td>2010-12-07 14:57:00</td>\n",
       "      <td>2</td>\n",
       "      <td>2</td>\n",
       "      <td>1323.32</td>\n",
       "      <td>5</td>\n",
       "      <td>2</td>\n",
       "      <td>4</td>\n",
       "      <td>524</td>\n",
       "    </tr>\n",
       "    <tr>\n",
       "      <th>2</th>\n",
       "      <td>12348.0</td>\n",
       "      <td>2010-09-27 14:59:00</td>\n",
       "      <td>73</td>\n",
       "      <td>1</td>\n",
       "      <td>222.16</td>\n",
       "      <td>2</td>\n",
       "      <td>1</td>\n",
       "      <td>1</td>\n",
       "      <td>211</td>\n",
       "    </tr>\n",
       "    <tr>\n",
       "      <th>3</th>\n",
       "      <td>12349.0</td>\n",
       "      <td>2010-10-28 08:23:00</td>\n",
       "      <td>42</td>\n",
       "      <td>4</td>\n",
       "      <td>2695.29</td>\n",
       "      <td>3</td>\n",
       "      <td>3</td>\n",
       "      <td>5</td>\n",
       "      <td>335</td>\n",
       "    </tr>\n",
       "    <tr>\n",
       "      <th>4</th>\n",
       "      <td>12351.0</td>\n",
       "      <td>2010-11-29 15:23:00</td>\n",
       "      <td>10</td>\n",
       "      <td>1</td>\n",
       "      <td>300.93</td>\n",
       "      <td>5</td>\n",
       "      <td>1</td>\n",
       "      <td>2</td>\n",
       "      <td>512</td>\n",
       "    </tr>\n",
       "  </tbody>\n",
       "</table>\n",
       "</div>"
      ],
      "text/plain": [
       "  Customer ID         InvoiceDate  Recency  Frequency  Monetary R_Score  \\\n",
       "0     12346.0 2010-10-04 16:33:00       66         15    810.40       3   \n",
       "1     12347.0 2010-12-07 14:57:00        2          2   1323.32       5   \n",
       "2     12348.0 2010-09-27 14:59:00       73          1    222.16       2   \n",
       "3     12349.0 2010-10-28 08:23:00       42          4   2695.29       3   \n",
       "4     12351.0 2010-11-29 15:23:00       10          1    300.93       5   \n",
       "\n",
       "  F_Score M_Score RFM_Score  \n",
       "0       5       3       353  \n",
       "1       2       4       524  \n",
       "2       1       1       211  \n",
       "3       3       5       335  \n",
       "4       1       2       512  "
      ]
     },
     "execution_count": 37,
     "metadata": {},
     "output_type": "execute_result"
    }
   ],
   "source": [
    "# Define scoring functions for RFM metrics (1 to 5 scale)\n",
    "rfm_table['R_Score'] = pd.qcut(rfm_table['Recency'], 5, labels=[5, 4, 3, 2, 1])\n",
    "rfm_table['F_Score'] = pd.qcut(rfm_table['Frequency'].rank(method='first'), 5, labels=[1, 2, 3, 4, 5])\n",
    "rfm_table['M_Score'] = pd.qcut(rfm_table['Monetary'], 5, labels=[1, 2, 3, 4, 5])\n",
    "\n",
    "# Calculate the overall RFM score (concatenation of R, F, M scores)\n",
    "rfm_table['RFM_Score'] = rfm_table['R_Score'].astype(str) + rfm_table['F_Score'].astype(str) + rfm_table['M_Score'].astype(str)\n",
    "\n",
    "print(\"RFM Table with Scores:\")\n",
    "rfm_table.head()\n"
   ]
  },
  {
   "cell_type": "code",
   "execution_count": 38,
   "metadata": {},
   "outputs": [
    {
     "name": "stdout",
     "output_type": "stream",
     "text": [
      "RFM Table with Segments:\n"
     ]
    },
    {
     "data": {
      "text/html": [
       "<div>\n",
       "<style scoped>\n",
       "    .dataframe tbody tr th:only-of-type {\n",
       "        vertical-align: middle;\n",
       "    }\n",
       "\n",
       "    .dataframe tbody tr th {\n",
       "        vertical-align: top;\n",
       "    }\n",
       "\n",
       "    .dataframe thead th {\n",
       "        text-align: right;\n",
       "    }\n",
       "</style>\n",
       "<table border=\"1\" class=\"dataframe\">\n",
       "  <thead>\n",
       "    <tr style=\"text-align: right;\">\n",
       "      <th></th>\n",
       "      <th>Customer ID</th>\n",
       "      <th>InvoiceDate</th>\n",
       "      <th>Recency</th>\n",
       "      <th>Frequency</th>\n",
       "      <th>Monetary</th>\n",
       "      <th>R_Score</th>\n",
       "      <th>F_Score</th>\n",
       "      <th>M_Score</th>\n",
       "      <th>RFM_Score</th>\n",
       "      <th>Segment</th>\n",
       "    </tr>\n",
       "  </thead>\n",
       "  <tbody>\n",
       "    <tr>\n",
       "      <th>0</th>\n",
       "      <td>12346.0</td>\n",
       "      <td>2010-10-04 16:33:00</td>\n",
       "      <td>66</td>\n",
       "      <td>15</td>\n",
       "      <td>810.40</td>\n",
       "      <td>3</td>\n",
       "      <td>5</td>\n",
       "      <td>3</td>\n",
       "      <td>353</td>\n",
       "      <td>Potential Loyalists</td>\n",
       "    </tr>\n",
       "    <tr>\n",
       "      <th>1</th>\n",
       "      <td>12347.0</td>\n",
       "      <td>2010-12-07 14:57:00</td>\n",
       "      <td>2</td>\n",
       "      <td>2</td>\n",
       "      <td>1323.32</td>\n",
       "      <td>5</td>\n",
       "      <td>2</td>\n",
       "      <td>4</td>\n",
       "      <td>524</td>\n",
       "      <td>Needing Attention</td>\n",
       "    </tr>\n",
       "    <tr>\n",
       "      <th>2</th>\n",
       "      <td>12348.0</td>\n",
       "      <td>2010-09-27 14:59:00</td>\n",
       "      <td>73</td>\n",
       "      <td>1</td>\n",
       "      <td>222.16</td>\n",
       "      <td>2</td>\n",
       "      <td>1</td>\n",
       "      <td>1</td>\n",
       "      <td>211</td>\n",
       "      <td>At Risk</td>\n",
       "    </tr>\n",
       "    <tr>\n",
       "      <th>3</th>\n",
       "      <td>12349.0</td>\n",
       "      <td>2010-10-28 08:23:00</td>\n",
       "      <td>42</td>\n",
       "      <td>4</td>\n",
       "      <td>2695.29</td>\n",
       "      <td>3</td>\n",
       "      <td>3</td>\n",
       "      <td>5</td>\n",
       "      <td>335</td>\n",
       "      <td>Potential Loyalists</td>\n",
       "    </tr>\n",
       "    <tr>\n",
       "      <th>4</th>\n",
       "      <td>12351.0</td>\n",
       "      <td>2010-11-29 15:23:00</td>\n",
       "      <td>10</td>\n",
       "      <td>1</td>\n",
       "      <td>300.93</td>\n",
       "      <td>5</td>\n",
       "      <td>1</td>\n",
       "      <td>2</td>\n",
       "      <td>512</td>\n",
       "      <td>At Risk</td>\n",
       "    </tr>\n",
       "  </tbody>\n",
       "</table>\n",
       "</div>"
      ],
      "text/plain": [
       "  Customer ID         InvoiceDate  Recency  Frequency  Monetary R_Score  \\\n",
       "0     12346.0 2010-10-04 16:33:00       66         15    810.40       3   \n",
       "1     12347.0 2010-12-07 14:57:00        2          2   1323.32       5   \n",
       "2     12348.0 2010-09-27 14:59:00       73          1    222.16       2   \n",
       "3     12349.0 2010-10-28 08:23:00       42          4   2695.29       3   \n",
       "4     12351.0 2010-11-29 15:23:00       10          1    300.93       5   \n",
       "\n",
       "  F_Score M_Score RFM_Score              Segment  \n",
       "0       5       3       353  Potential Loyalists  \n",
       "1       2       4       524    Needing Attention  \n",
       "2       1       1       211              At Risk  \n",
       "3       3       5       335  Potential Loyalists  \n",
       "4       1       2       512              At Risk  "
      ]
     },
     "execution_count": 38,
     "metadata": {},
     "output_type": "execute_result"
    }
   ],
   "source": [
    "# Define RFM segments\n",
    "def rfm_segment(row):\n",
    "    if row['R_Score'] == 5 and row['F_Score'] == 5 and row['M_Score'] == 5:\n",
    "        return 'Champions'\n",
    "    elif row['R_Score'] == 4 and row['F_Score'] >= 4 and row['M_Score'] >= 4:\n",
    "        return 'Loyal Customers'\n",
    "    elif row['R_Score'] >= 3 and row['F_Score'] >= 3 and row['M_Score'] >= 3:\n",
    "        return 'Potential Loyalists'\n",
    "    elif row['R_Score'] >= 2 and row['F_Score'] >= 2 and row['M_Score'] >= 2:\n",
    "        return 'Needing Attention'\n",
    "    else:\n",
    "        return 'At Risk'\n",
    "\n",
    "# Apply segmentation\n",
    "rfm_table['Segment'] = rfm_table.apply(rfm_segment, axis=1)\n",
    "\n",
    "print(\"RFM Table with Segments:\")\n",
    "rfm_table.head()\n"
   ]
  },
  {
   "cell_type": "code",
   "execution_count": 39,
   "metadata": {},
   "outputs": [],
   "source": [
    "rfm_table.drop(['InvoiceDate'],axis=1,inplace=True)"
   ]
  },
  {
   "cell_type": "code",
   "execution_count": 40,
   "metadata": {},
   "outputs": [],
   "source": [
    "rfm_table.to_csv(r\"D:\\Portfolio Github\\customer_purchase_behavior\\rfm_score_segment.csv\")"
   ]
  },
  {
   "cell_type": "code",
   "execution_count": 41,
   "metadata": {},
   "outputs": [],
   "source": [
    "import matplotlib.pyplot as plt\n",
    "\n",
    "# Count the number of customers in each segment\n",
    "segment_counts = rfm_table['Segment'].value_counts()"
   ]
  },
  {
   "cell_type": "code",
   "execution_count": 42,
   "metadata": {},
   "outputs": [
    {
     "name": "stderr",
     "output_type": "stream",
     "text": [
      "C:\\Users\\SHUCHISMITA MALLICK\\AppData\\Local\\Temp\\ipykernel_17048\\426550633.py:3: FutureWarning: \n",
      "\n",
      "Passing `palette` without assigning `hue` is deprecated and will be removed in v0.14.0. Assign the `x` variable to `hue` and set `legend=False` for the same effect.\n",
      "\n",
      "  sns.barplot(x=segment_counts.index, y=segment_counts.values, palette='viridis')\n"
     ]
    },
    {
     "data": {
      "image/png": "[encoded data removed]",
      "text/plain": [
       "<Figure size 1000x600 with 1 Axes>"
      ]
     },
     "metadata": {},
     "output_type": "display_data"
    }
   ],
   "source": [
    "\n",
    "# Plot a bar chart\n",
    "plt.figure(figsize=(10, 6))\n",
    "sns.barplot(x=segment_counts.index, y=segment_counts.values, palette='viridis')\n",
    "plt.title('Distribution of Customers Across Segments')\n",
    "plt.xlabel('Customer Segment')\n",
    "plt.ylabel('Number of Customers')\n",
    "plt.xticks(rotation=45)\n",
    "plt.show()\n"
   ]
  },
  {
   "cell_type": "code",
   "execution_count": 43,
   "metadata": {},
   "outputs": [
    {
     "data": {
      "image/png": "[encoded data removed]",
      "text/plain": [
       "<Figure size 800x800 with 1 Axes>"
      ]
     },
     "metadata": {},
     "output_type": "display_data"
    }
   ],
   "source": [
    "# Plot a pie chart\n",
    "plt.figure(figsize=(8, 8))\n",
    "plt.pie(segment_counts, labels=segment_counts.index, autopct='%1.1f%%', startangle=140, colors=plt.cm.Paired.colors)\n",
    "plt.title('Customer Segmentation Based on RFM Scores')\n",
    "plt.show()\n"
   ]
  },
  {
   "cell_type": "markdown",
   "metadata": {},
   "source": [
    "## **Conclusion:**\n",
    "* **At-Risk Customers:** A significant portion of the customer base (36.8%) falls into the \"At Risk\" segment, indicating they haven't made recent purchases. This presents a threat to long-term revenue if they churn.\n",
    "* **Needing Attention:** 24% of customers are in the \"Needing Attention\" segment, suggesting they might soon slip into the at-risk category if not engaged properly.\n",
    "* **Potential Loyalists:** 23.4% of the customer base shows potential for loyalty but may need nurturing to convert into \"Champions.\"\n",
    "* **Champions and Loyal Customers:** Together, these high-value customers (15.8%) contribute significantly to revenue and are likely to be retained with proper engagement."
   ]
  },
  {
   "cell_type": "markdown",
   "metadata": {},
   "source": [
    "### **Recommendations:**\n",
    "\n",
    "#### Re-engagement Campaigns:\n",
    "- **At-Risk Customers**: Implement targeted reactivation strategies such as personalized offers, discounts, or loyalty rewards to win back these customers.\n",
    "- **Needing Attention**: Preemptively engage with these customers through follow-up emails and product recommendations to prevent them from becoming at risk.\n",
    "\n",
    "#### Nurturing Potential Loyalists:\n",
    "- Offer exclusive perks or early access to new products to convert these customers into loyalists or champions.\n",
    "\n",
    "#### Retention Strategy for Top Customers:\n",
    "- For \"Champions\" and \"Loyal Customers,\" focus on personalized experiences and premium services to maintain their loyalty and encourage advocacy.\n",
    "\n",
    "#### Product-Specific Promotions:\n",
    "- Analyze the specific products that attract different segments and tailor marketing campaigns to highlight these items, especially for segments with lower monetary scores.\n",
    "\n",
    "#### Seasonal Campaigns:\n",
    "- Identify seasonal trends and use them to your advantage by launching timely promotions and reminders, particularly for customers with lower recency scores.\n"
   ]
  },
  {
   "cell_type": "markdown",
   "metadata": {},
   "source": [
    "-------------------\n",
    "----------------"
   ]
  }
 ],
 "metadata": {
  "kernelspec": {
   "display_name": "mygitenv",
   "language": "python",
   "name": "python3"
  },
  "language_info": {
   "codemirror_mode": {
    "name": "ipython",
    "version": 3
   },
   "file_extension": ".py",
   "mimetype": "text/x-python",
   "name": "python",
   "nbconvert_exporter": "python",
   "pygments_lexer": "ipython3",
   "version": "3.10.14"
  }
 },
 "nbformat": 4,
 "nbformat_minor": 2
}
